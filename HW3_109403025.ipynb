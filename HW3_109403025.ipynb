{
 "cells": [
  {
   "cell_type": "code",
   "execution_count": 1,
   "id": "393bd315",
   "metadata": {},
   "outputs": [],
   "source": [
    "import pandas as pd\n",
    "import numpy as np\n",
    "from sklearn.preprocessing import LabelEncoder "
   ]
  },
  {
   "cell_type": "code",
   "execution_count": 2,
   "id": "f50d29d0",
   "metadata": {},
   "outputs": [
    {
     "data": {
      "text/html": [
       "<div>\n",
       "<style scoped>\n",
       "    .dataframe tbody tr th:only-of-type {\n",
       "        vertical-align: middle;\n",
       "    }\n",
       "\n",
       "    .dataframe tbody tr th {\n",
       "        vertical-align: top;\n",
       "    }\n",
       "\n",
       "    .dataframe thead th {\n",
       "        text-align: right;\n",
       "    }\n",
       "</style>\n",
       "<table border=\"1\" class=\"dataframe\">\n",
       "  <thead>\n",
       "    <tr style=\"text-align: right;\">\n",
       "      <th></th>\n",
       "      <th>age</th>\n",
       "      <th>sex</th>\n",
       "      <th>bmi</th>\n",
       "      <th>children</th>\n",
       "      <th>smoker</th>\n",
       "      <th>region</th>\n",
       "      <th>charges</th>\n",
       "    </tr>\n",
       "  </thead>\n",
       "  <tbody>\n",
       "    <tr>\n",
       "      <th>0</th>\n",
       "      <td>19</td>\n",
       "      <td>female</td>\n",
       "      <td>27.900</td>\n",
       "      <td>0</td>\n",
       "      <td>yes</td>\n",
       "      <td>southwest</td>\n",
       "      <td>16884.92400</td>\n",
       "    </tr>\n",
       "    <tr>\n",
       "      <th>1</th>\n",
       "      <td>18</td>\n",
       "      <td>male</td>\n",
       "      <td>33.770</td>\n",
       "      <td>1</td>\n",
       "      <td>no</td>\n",
       "      <td>southeast</td>\n",
       "      <td>1725.55230</td>\n",
       "    </tr>\n",
       "    <tr>\n",
       "      <th>2</th>\n",
       "      <td>28</td>\n",
       "      <td>male</td>\n",
       "      <td>33.000</td>\n",
       "      <td>3</td>\n",
       "      <td>no</td>\n",
       "      <td>southeast</td>\n",
       "      <td>4449.46200</td>\n",
       "    </tr>\n",
       "    <tr>\n",
       "      <th>3</th>\n",
       "      <td>33</td>\n",
       "      <td>male</td>\n",
       "      <td>22.705</td>\n",
       "      <td>0</td>\n",
       "      <td>no</td>\n",
       "      <td>northwest</td>\n",
       "      <td>21984.47061</td>\n",
       "    </tr>\n",
       "    <tr>\n",
       "      <th>4</th>\n",
       "      <td>32</td>\n",
       "      <td>male</td>\n",
       "      <td>28.880</td>\n",
       "      <td>0</td>\n",
       "      <td>no</td>\n",
       "      <td>northwest</td>\n",
       "      <td>3866.85520</td>\n",
       "    </tr>\n",
       "  </tbody>\n",
       "</table>\n",
       "</div>"
      ],
      "text/plain": [
       "   age     sex     bmi  children smoker     region      charges\n",
       "0   19  female  27.900         0    yes  southwest  16884.92400\n",
       "1   18    male  33.770         1     no  southeast   1725.55230\n",
       "2   28    male  33.000         3     no  southeast   4449.46200\n",
       "3   33    male  22.705         0     no  northwest  21984.47061\n",
       "4   32    male  28.880         0     no  northwest   3866.85520"
      ]
     },
     "execution_count": 2,
     "metadata": {},
     "output_type": "execute_result"
    }
   ],
   "source": [
    "# 1-1\n",
    "data = pd.read_csv('insurance.csv')\n",
    "data.head()"
   ]
  },
  {
   "cell_type": "code",
   "execution_count": 3,
   "id": "3c963407",
   "metadata": {},
   "outputs": [
    {
     "name": "stdout",
     "output_type": "stream",
     "text": [
      "<class 'pandas.core.frame.DataFrame'>\n",
      "RangeIndex: 1338 entries, 0 to 1337\n",
      "Data columns (total 7 columns):\n",
      " #   Column    Non-Null Count  Dtype  \n",
      "---  ------    --------------  -----  \n",
      " 0   age       1338 non-null   int64  \n",
      " 1   sex       1338 non-null   object \n",
      " 2   bmi       1338 non-null   float64\n",
      " 3   children  1338 non-null   int64  \n",
      " 4   smoker    1338 non-null   object \n",
      " 5   region    1338 non-null   object \n",
      " 6   charges   1338 non-null   float64\n",
      "dtypes: float64(2), int64(2), object(3)\n",
      "memory usage: 73.3+ KB\n"
     ]
    }
   ],
   "source": [
    "data.info()"
   ]
  },
  {
   "cell_type": "code",
   "execution_count": 4,
   "id": "ed977e95",
   "metadata": {},
   "outputs": [
    {
     "data": {
      "text/html": [
       "<div>\n",
       "<style scoped>\n",
       "    .dataframe tbody tr th:only-of-type {\n",
       "        vertical-align: middle;\n",
       "    }\n",
       "\n",
       "    .dataframe tbody tr th {\n",
       "        vertical-align: top;\n",
       "    }\n",
       "\n",
       "    .dataframe thead th {\n",
       "        text-align: right;\n",
       "    }\n",
       "</style>\n",
       "<table border=\"1\" class=\"dataframe\">\n",
       "  <thead>\n",
       "    <tr style=\"text-align: right;\">\n",
       "      <th></th>\n",
       "      <th>age</th>\n",
       "      <th>sex</th>\n",
       "      <th>bmi</th>\n",
       "      <th>children</th>\n",
       "      <th>smoker</th>\n",
       "      <th>region</th>\n",
       "      <th>charges</th>\n",
       "    </tr>\n",
       "  </thead>\n",
       "  <tbody>\n",
       "    <tr>\n",
       "      <th>0</th>\n",
       "      <td>19</td>\n",
       "      <td>0</td>\n",
       "      <td>27</td>\n",
       "      <td>0</td>\n",
       "      <td>1</td>\n",
       "      <td>3</td>\n",
       "      <td>16884</td>\n",
       "    </tr>\n",
       "    <tr>\n",
       "      <th>1</th>\n",
       "      <td>18</td>\n",
       "      <td>1</td>\n",
       "      <td>33</td>\n",
       "      <td>1</td>\n",
       "      <td>0</td>\n",
       "      <td>2</td>\n",
       "      <td>1725</td>\n",
       "    </tr>\n",
       "    <tr>\n",
       "      <th>2</th>\n",
       "      <td>28</td>\n",
       "      <td>1</td>\n",
       "      <td>33</td>\n",
       "      <td>3</td>\n",
       "      <td>0</td>\n",
       "      <td>2</td>\n",
       "      <td>4449</td>\n",
       "    </tr>\n",
       "    <tr>\n",
       "      <th>3</th>\n",
       "      <td>33</td>\n",
       "      <td>1</td>\n",
       "      <td>22</td>\n",
       "      <td>0</td>\n",
       "      <td>0</td>\n",
       "      <td>1</td>\n",
       "      <td>21984</td>\n",
       "    </tr>\n",
       "    <tr>\n",
       "      <th>4</th>\n",
       "      <td>32</td>\n",
       "      <td>1</td>\n",
       "      <td>28</td>\n",
       "      <td>0</td>\n",
       "      <td>0</td>\n",
       "      <td>1</td>\n",
       "      <td>3866</td>\n",
       "    </tr>\n",
       "  </tbody>\n",
       "</table>\n",
       "</div>"
      ],
      "text/plain": [
       "   age  sex  bmi  children  smoker  region  charges\n",
       "0   19    0   27         0       1       3    16884\n",
       "1   18    1   33         1       0       2     1725\n",
       "2   28    1   33         3       0       2     4449\n",
       "3   33    1   22         0       0       1    21984\n",
       "4   32    1   28         0       0       1     3866"
      ]
     },
     "execution_count": 4,
     "metadata": {},
     "output_type": "execute_result"
    }
   ],
   "source": [
    "# 1-2\n",
    "le = LabelEncoder()\n",
    "data['sex'] = le.fit_transform(data['sex'])\n",
    "data['smoker'] = le.fit_transform(data['smoker'])\n",
    "data['region'] = le.fit_transform(data['region'])\n",
    "data['bmi'] = data['bmi'].astype('int')\n",
    "data['charges'] = data['charges'].astype('int')\n",
    "data.head()"
   ]
  },
  {
   "cell_type": "code",
   "execution_count": 5,
   "id": "f1ec196d",
   "metadata": {},
   "outputs": [
    {
     "name": "stdout",
     "output_type": "stream",
     "text": [
      "<class 'pandas.core.frame.DataFrame'>\n",
      "RangeIndex: 1338 entries, 0 to 1337\n",
      "Data columns (total 6 columns):\n",
      " #   Column    Non-Null Count  Dtype\n",
      "---  ------    --------------  -----\n",
      " 0   age       1338 non-null   int64\n",
      " 1   sex       1338 non-null   int32\n",
      " 2   bmi       1338 non-null   int32\n",
      " 3   children  1338 non-null   int64\n",
      " 4   smoker    1338 non-null   int32\n",
      " 5   region    1338 non-null   int32\n",
      "dtypes: int32(4), int64(2)\n",
      "memory usage: 41.9 KB\n"
     ]
    }
   ],
   "source": [
    "# 1-3\n",
    "X = data.drop(['charges'],axis=1)\n",
    "X.info()\n",
    "# X為訓練集"
   ]
  },
  {
   "cell_type": "code",
   "execution_count": 6,
   "id": "e62645dc",
   "metadata": {},
   "outputs": [],
   "source": [
    "y = data['charges']\n",
    "# y為測試集"
   ]
  },
  {
   "cell_type": "code",
   "execution_count": 7,
   "id": "e549ec66",
   "metadata": {},
   "outputs": [],
   "source": [
    "from sklearn.model_selection import train_test_split\n",
    "X_train, X_test, y_train, y_test = train_test_split(X, y, test_size = 0.3, random_state = 12)"
   ]
  },
  {
   "cell_type": "code",
   "execution_count": 8,
   "id": "f12edcb1",
   "metadata": {},
   "outputs": [
    {
     "data": {
      "text/plain": [
       "LinearRegression()"
      ]
     },
     "execution_count": 8,
     "metadata": {},
     "output_type": "execute_result"
    }
   ],
   "source": [
    "# 1-4\n",
    "from sklearn.linear_model import LinearRegression\n",
    "lr_regressor = LinearRegression() # 建立 linear regression model\n",
    "lr_regressor.fit(X_train, y_train) # 訓練model"
   ]
  },
  {
   "cell_type": "code",
   "execution_count": 9,
   "id": "776e0460",
   "metadata": {},
   "outputs": [],
   "source": [
    "from sklearn.metrics import accuracy_score\n",
    "y_pred = lr_regressor.predict(X_test) #使用X_test預測"
   ]
  },
  {
   "cell_type": "code",
   "execution_count": 10,
   "id": "1f52957b",
   "metadata": {},
   "outputs": [
    {
     "name": "stdout",
     "output_type": "stream",
     "text": [
      "RMSE =  6352.566130502396\n",
      "MAE =  4240.2714817157175\n",
      "R2 =  0.6971789057777514\n"
     ]
    }
   ],
   "source": [
    "# 1-5 Linear Regression的 R2、RMSE、MAE\n",
    "from sklearn import metrics\n",
    "\n",
    "RMSE_lr = metrics.mean_squared_error(y_test,y_pred,squared=False)\n",
    "MAE_lr = metrics.mean_absolute_error(y_test, y_pred)\n",
    "R2_lr = metrics.r2_score(y_test, y_pred)\n",
    "print(\"RMSE = \",RMSE_lr)\n",
    "print(\"MAE = \",MAE_lr)\n",
    "print(\"R2 = \",R2_lr)"
   ]
  },
  {
   "cell_type": "code",
   "execution_count": 11,
   "id": "465bc8e3",
   "metadata": {},
   "outputs": [
    {
     "data": {
      "text/plain": [
       "SVR(kernel='linear')"
      ]
     },
     "execution_count": 11,
     "metadata": {},
     "output_type": "execute_result"
    }
   ],
   "source": [
    "from sklearn import svm\n",
    "in_svr = svm.SVR(kernel='linear')# 建立 SVM(SVR) model\n",
    "in_svr.fit(X_train, y_train) #訓練 in_svr"
   ]
  },
  {
   "cell_type": "code",
   "execution_count": 12,
   "id": "03d152ef",
   "metadata": {},
   "outputs": [],
   "source": [
    "y_pred = in_svr.predict(X_test) #使用X_test預測"
   ]
  },
  {
   "cell_type": "code",
   "execution_count": 13,
   "id": "591880a9",
   "metadata": {},
   "outputs": [
    {
     "name": "stdout",
     "output_type": "stream",
     "text": [
      "RMSE =  12087.608346751556\n",
      "MAE =  5902.911116872388\n",
      "R2 =  -0.09639865637870004\n"
     ]
    }
   ],
   "source": [
    "# SVM(SVR)的 R2、RMSE、MAE\n",
    "RMSE_svr = metrics.mean_squared_error(y_test,y_pred,squared=False)\n",
    "MAE_svr = metrics.mean_absolute_error(y_test, y_pred)\n",
    "R2_svr = metrics.r2_score(y_test, y_pred)\n",
    "print(\"RMSE = \",RMSE_svr)\n",
    "print(\"MAE = \",MAE_svr)\n",
    "print(\"R2 = \",R2_svr)"
   ]
  },
  {
   "cell_type": "code",
   "execution_count": 14,
   "id": "9953b954",
   "metadata": {},
   "outputs": [
    {
     "data": {
      "text/plain": [
       "DecisionTreeClassifier()"
      ]
     },
     "execution_count": 14,
     "metadata": {},
     "output_type": "execute_result"
    }
   ],
   "source": [
    "from sklearn.tree import DecisionTreeClassifier\n",
    "dt = DecisionTreeClassifier()#  DecisionTree model\n",
    "dt.fit(X_train, y_train)# 訓練 dt"
   ]
  },
  {
   "cell_type": "code",
   "execution_count": 15,
   "id": "e2c1dc3b",
   "metadata": {},
   "outputs": [],
   "source": [
    "y_pred = dt.predict(X_test)#使用X_test預測"
   ]
  },
  {
   "cell_type": "code",
   "execution_count": 16,
   "id": "c4333e4e",
   "metadata": {},
   "outputs": [
    {
     "name": "stdout",
     "output_type": "stream",
     "text": [
      "RMSE =  9775.78948434798\n",
      "MAE =  5459.524875621891\n",
      "R2 =  0.2828806910716577\n"
     ]
    }
   ],
   "source": [
    "# Decision tree 的 R2、RMSE、MAE\n",
    "RMSE_dt = metrics.mean_squared_error(y_test,y_pred,squared=False)\n",
    "MAE_dt = metrics.mean_absolute_error(y_test, y_pred)\n",
    "R2_dt = metrics.r2_score(y_test, y_pred)\n",
    "print(\"RMSE = \",RMSE_dt)\n",
    "print(\"MAE = \",MAE_dt)\n",
    "print(\"R2 = \",R2_dt)"
   ]
  },
  {
   "cell_type": "code",
   "execution_count": 17,
   "id": "077cf732",
   "metadata": {},
   "outputs": [
    {
     "data": {
      "text/html": [
       "<div>\n",
       "<style scoped>\n",
       "    .dataframe tbody tr th:only-of-type {\n",
       "        vertical-align: middle;\n",
       "    }\n",
       "\n",
       "    .dataframe tbody tr th {\n",
       "        vertical-align: top;\n",
       "    }\n",
       "\n",
       "    .dataframe thead th {\n",
       "        text-align: right;\n",
       "    }\n",
       "</style>\n",
       "<table border=\"1\" class=\"dataframe\">\n",
       "  <thead>\n",
       "    <tr style=\"text-align: right;\">\n",
       "      <th></th>\n",
       "      <th>CustomerID</th>\n",
       "      <th>Churn</th>\n",
       "      <th>Tenure</th>\n",
       "      <th>PreferredLoginDevice</th>\n",
       "      <th>CityTier</th>\n",
       "      <th>WarehouseToHome</th>\n",
       "      <th>PreferredPaymentMode</th>\n",
       "      <th>Gender</th>\n",
       "      <th>HourSpendOnApp</th>\n",
       "      <th>NumberOfDeviceRegistered</th>\n",
       "      <th>PreferedOrderCat</th>\n",
       "      <th>SatisfactionScore</th>\n",
       "      <th>MaritalStatus</th>\n",
       "      <th>NumberOfAddress</th>\n",
       "      <th>Complain</th>\n",
       "      <th>OrderAmountHikeFromlastYear</th>\n",
       "      <th>CouponUsed</th>\n",
       "      <th>OrderCount</th>\n",
       "      <th>DaySinceLastOrder</th>\n",
       "      <th>CashbackAmount</th>\n",
       "    </tr>\n",
       "  </thead>\n",
       "  <tbody>\n",
       "    <tr>\n",
       "      <th>0</th>\n",
       "      <td>54023</td>\n",
       "      <td>1</td>\n",
       "      <td>1.0</td>\n",
       "      <td>Computer</td>\n",
       "      <td>1</td>\n",
       "      <td>31.0</td>\n",
       "      <td>Debit Card</td>\n",
       "      <td>Male</td>\n",
       "      <td>4.0</td>\n",
       "      <td>5</td>\n",
       "      <td>Mobile Phone</td>\n",
       "      <td>1</td>\n",
       "      <td>Single</td>\n",
       "      <td>3</td>\n",
       "      <td>1</td>\n",
       "      <td>25.0</td>\n",
       "      <td>2.0</td>\n",
       "      <td>2.0</td>\n",
       "      <td>1.0</td>\n",
       "      <td>149</td>\n",
       "    </tr>\n",
       "    <tr>\n",
       "      <th>1</th>\n",
       "      <td>50266</td>\n",
       "      <td>0</td>\n",
       "      <td>16.0</td>\n",
       "      <td>Mobile Phone</td>\n",
       "      <td>1</td>\n",
       "      <td>18.0</td>\n",
       "      <td>Debit Card</td>\n",
       "      <td>Male</td>\n",
       "      <td>2.0</td>\n",
       "      <td>4</td>\n",
       "      <td>Grocery</td>\n",
       "      <td>4</td>\n",
       "      <td>Married</td>\n",
       "      <td>2</td>\n",
       "      <td>0</td>\n",
       "      <td>11.0</td>\n",
       "      <td>0.0</td>\n",
       "      <td>NaN</td>\n",
       "      <td>9.0</td>\n",
       "      <td>243</td>\n",
       "    </tr>\n",
       "    <tr>\n",
       "      <th>2</th>\n",
       "      <td>54985</td>\n",
       "      <td>0</td>\n",
       "      <td>16.0</td>\n",
       "      <td>Mobile Phone</td>\n",
       "      <td>1</td>\n",
       "      <td>36.0</td>\n",
       "      <td>Credit Card</td>\n",
       "      <td>Male</td>\n",
       "      <td>3.0</td>\n",
       "      <td>6</td>\n",
       "      <td>Laptop &amp; Accessory</td>\n",
       "      <td>1</td>\n",
       "      <td>Single</td>\n",
       "      <td>6</td>\n",
       "      <td>0</td>\n",
       "      <td>20.0</td>\n",
       "      <td>2.0</td>\n",
       "      <td>2.0</td>\n",
       "      <td>1.0</td>\n",
       "      <td>168</td>\n",
       "    </tr>\n",
       "    <tr>\n",
       "      <th>3</th>\n",
       "      <td>52029</td>\n",
       "      <td>1</td>\n",
       "      <td>0.0</td>\n",
       "      <td>Phone</td>\n",
       "      <td>3</td>\n",
       "      <td>NaN</td>\n",
       "      <td>E wallet</td>\n",
       "      <td>Male</td>\n",
       "      <td>2.0</td>\n",
       "      <td>4</td>\n",
       "      <td>Mobile</td>\n",
       "      <td>4</td>\n",
       "      <td>Married</td>\n",
       "      <td>2</td>\n",
       "      <td>1</td>\n",
       "      <td>18.0</td>\n",
       "      <td>0.0</td>\n",
       "      <td>1.0</td>\n",
       "      <td>0.0</td>\n",
       "      <td>124</td>\n",
       "    </tr>\n",
       "    <tr>\n",
       "      <th>4</th>\n",
       "      <td>50084</td>\n",
       "      <td>0</td>\n",
       "      <td>13.0</td>\n",
       "      <td>Computer</td>\n",
       "      <td>1</td>\n",
       "      <td>15.0</td>\n",
       "      <td>Debit Card</td>\n",
       "      <td>Male</td>\n",
       "      <td>3.0</td>\n",
       "      <td>4</td>\n",
       "      <td>Laptop &amp; Accessory</td>\n",
       "      <td>2</td>\n",
       "      <td>Divorced</td>\n",
       "      <td>10</td>\n",
       "      <td>0</td>\n",
       "      <td>14.0</td>\n",
       "      <td>1.0</td>\n",
       "      <td>1.0</td>\n",
       "      <td>2.0</td>\n",
       "      <td>149</td>\n",
       "    </tr>\n",
       "  </tbody>\n",
       "</table>\n",
       "</div>"
      ],
      "text/plain": [
       "   CustomerID  Churn  Tenure PreferredLoginDevice  CityTier  WarehouseToHome  \\\n",
       "0       54023      1     1.0             Computer         1             31.0   \n",
       "1       50266      0    16.0         Mobile Phone         1             18.0   \n",
       "2       54985      0    16.0         Mobile Phone         1             36.0   \n",
       "3       52029      1     0.0                Phone         3              NaN   \n",
       "4       50084      0    13.0             Computer         1             15.0   \n",
       "\n",
       "  PreferredPaymentMode Gender  HourSpendOnApp  NumberOfDeviceRegistered  \\\n",
       "0           Debit Card   Male             4.0                         5   \n",
       "1           Debit Card   Male             2.0                         4   \n",
       "2          Credit Card   Male             3.0                         6   \n",
       "3             E wallet   Male             2.0                         4   \n",
       "4           Debit Card   Male             3.0                         4   \n",
       "\n",
       "     PreferedOrderCat  SatisfactionScore MaritalStatus  NumberOfAddress  \\\n",
       "0        Mobile Phone                  1        Single                3   \n",
       "1             Grocery                  4       Married                2   \n",
       "2  Laptop & Accessory                  1        Single                6   \n",
       "3              Mobile                  4       Married                2   \n",
       "4  Laptop & Accessory                  2      Divorced               10   \n",
       "\n",
       "   Complain  OrderAmountHikeFromlastYear  CouponUsed  OrderCount  \\\n",
       "0         1                         25.0         2.0         2.0   \n",
       "1         0                         11.0         0.0         NaN   \n",
       "2         0                         20.0         2.0         2.0   \n",
       "3         1                         18.0         0.0         1.0   \n",
       "4         0                         14.0         1.0         1.0   \n",
       "\n",
       "   DaySinceLastOrder  CashbackAmount  \n",
       "0                1.0             149  \n",
       "1                9.0             243  \n",
       "2                1.0             168  \n",
       "3                0.0             124  \n",
       "4                2.0             149  "
      ]
     },
     "execution_count": 17,
     "metadata": {},
     "output_type": "execute_result"
    }
   ],
   "source": [
    "#第二部分 2-1\n",
    "data_cus = pd.read_csv('customer_churn.csv')\n",
    "data_cus.head()"
   ]
  },
  {
   "cell_type": "code",
   "execution_count": 18,
   "id": "d8d70bdd",
   "metadata": {},
   "outputs": [
    {
     "name": "stdout",
     "output_type": "stream",
     "text": [
      "<class 'pandas.core.frame.DataFrame'>\n",
      "RangeIndex: 3083 entries, 0 to 3082\n",
      "Data columns (total 20 columns):\n",
      " #   Column                       Non-Null Count  Dtype  \n",
      "---  ------                       --------------  -----  \n",
      " 0   CustomerID                   3083 non-null   int64  \n",
      " 1   Churn                        3083 non-null   int64  \n",
      " 2   Tenure                       2930 non-null   float64\n",
      " 3   PreferredLoginDevice         3083 non-null   object \n",
      " 4   CityTier                     3083 non-null   int64  \n",
      " 5   WarehouseToHome              2929 non-null   float64\n",
      " 6   PreferredPaymentMode         3083 non-null   object \n",
      " 7   Gender                       3083 non-null   object \n",
      " 8   HourSpendOnApp               2933 non-null   float64\n",
      " 9   NumberOfDeviceRegistered     3083 non-null   int64  \n",
      " 10  PreferedOrderCat             3083 non-null   object \n",
      " 11  SatisfactionScore            3083 non-null   int64  \n",
      " 12  MaritalStatus                3083 non-null   object \n",
      " 13  NumberOfAddress              3083 non-null   int64  \n",
      " 14  Complain                     3083 non-null   int64  \n",
      " 15  OrderAmountHikeFromlastYear  2952 non-null   float64\n",
      " 16  CouponUsed                   2957 non-null   float64\n",
      " 17  OrderCount                   2955 non-null   float64\n",
      " 18  DaySinceLastOrder            2917 non-null   float64\n",
      " 19  CashbackAmount               3083 non-null   int64  \n",
      "dtypes: float64(7), int64(8), object(5)\n",
      "memory usage: 481.8+ KB\n"
     ]
    }
   ],
   "source": [
    "# 2-2\n",
    "data_cus.info()\n",
    "# 共3083筆，20個屬性"
   ]
  },
  {
   "cell_type": "code",
   "execution_count": 19,
   "id": "ce5b7048",
   "metadata": {},
   "outputs": [
    {
     "data": {
      "text/plain": [
       "CustomerID                       0\n",
       "Churn                            0\n",
       "Tenure                         153\n",
       "PreferredLoginDevice             0\n",
       "CityTier                         0\n",
       "WarehouseToHome                154\n",
       "PreferredPaymentMode             0\n",
       "Gender                           0\n",
       "HourSpendOnApp                 150\n",
       "NumberOfDeviceRegistered         0\n",
       "PreferedOrderCat                 0\n",
       "SatisfactionScore                0\n",
       "MaritalStatus                    0\n",
       "NumberOfAddress                  0\n",
       "Complain                         0\n",
       "OrderAmountHikeFromlastYear    131\n",
       "CouponUsed                     126\n",
       "OrderCount                     128\n",
       "DaySinceLastOrder              166\n",
       "CashbackAmount                   0\n",
       "dtype: int64"
      ]
     },
     "execution_count": 19,
     "metadata": {},
     "output_type": "execute_result"
    }
   ],
   "source": [
    "data_cus.isnull().sum() #各欄位的空值個數"
   ]
  },
  {
   "cell_type": "code",
   "execution_count": 20,
   "id": "0f870594",
   "metadata": {},
   "outputs": [
    {
     "data": {
      "text/plain": [
       "3078"
      ]
     },
     "execution_count": 20,
     "metadata": {},
     "output_type": "execute_result"
    }
   ],
   "source": [
    "# 2-3\n",
    "data_cus = data_cus.drop_duplicates()\n",
    "data_cus.shape[0]"
   ]
  },
  {
   "cell_type": "code",
   "execution_count": 21,
   "id": "8e2f0b64",
   "metadata": {},
   "outputs": [
    {
     "data": {
      "text/html": [
       "<div>\n",
       "<style scoped>\n",
       "    .dataframe tbody tr th:only-of-type {\n",
       "        vertical-align: middle;\n",
       "    }\n",
       "\n",
       "    .dataframe tbody tr th {\n",
       "        vertical-align: top;\n",
       "    }\n",
       "\n",
       "    .dataframe thead th {\n",
       "        text-align: right;\n",
       "    }\n",
       "</style>\n",
       "<table border=\"1\" class=\"dataframe\">\n",
       "  <thead>\n",
       "    <tr style=\"text-align: right;\">\n",
       "      <th></th>\n",
       "      <th>CustomerID</th>\n",
       "      <th>Churn</th>\n",
       "      <th>Tenure</th>\n",
       "      <th>PreferredLoginDevice</th>\n",
       "      <th>CityTier</th>\n",
       "      <th>WarehouseToHome</th>\n",
       "      <th>PreferredPaymentMode</th>\n",
       "      <th>Gender</th>\n",
       "      <th>HourSpendOnApp</th>\n",
       "      <th>NumberOfDeviceRegistered</th>\n",
       "      <th>PreferedOrderCat</th>\n",
       "      <th>SatisfactionScore</th>\n",
       "      <th>MaritalStatus</th>\n",
       "      <th>NumberOfAddress</th>\n",
       "      <th>Complain</th>\n",
       "      <th>OrderAmountHikeFromlastYear</th>\n",
       "      <th>CouponUsed</th>\n",
       "      <th>OrderCount</th>\n",
       "      <th>DaySinceLastOrder</th>\n",
       "      <th>CashbackAmount</th>\n",
       "    </tr>\n",
       "  </thead>\n",
       "  <tbody>\n",
       "    <tr>\n",
       "      <th>0</th>\n",
       "      <td>54023</td>\n",
       "      <td>1</td>\n",
       "      <td>1.0</td>\n",
       "      <td>Computer</td>\n",
       "      <td>1</td>\n",
       "      <td>31.0</td>\n",
       "      <td>Debit Card</td>\n",
       "      <td>Male</td>\n",
       "      <td>4.0</td>\n",
       "      <td>5</td>\n",
       "      <td>Mobile Phone</td>\n",
       "      <td>1</td>\n",
       "      <td>Single</td>\n",
       "      <td>3</td>\n",
       "      <td>1</td>\n",
       "      <td>25.0</td>\n",
       "      <td>2.0</td>\n",
       "      <td>2.0</td>\n",
       "      <td>1.0</td>\n",
       "      <td>149</td>\n",
       "    </tr>\n",
       "    <tr>\n",
       "      <th>1</th>\n",
       "      <td>50266</td>\n",
       "      <td>0</td>\n",
       "      <td>16.0</td>\n",
       "      <td>Mobile Phone</td>\n",
       "      <td>1</td>\n",
       "      <td>18.0</td>\n",
       "      <td>Debit Card</td>\n",
       "      <td>Male</td>\n",
       "      <td>2.0</td>\n",
       "      <td>4</td>\n",
       "      <td>Grocery</td>\n",
       "      <td>4</td>\n",
       "      <td>Married</td>\n",
       "      <td>2</td>\n",
       "      <td>0</td>\n",
       "      <td>11.0</td>\n",
       "      <td>0.0</td>\n",
       "      <td>NaN</td>\n",
       "      <td>9.0</td>\n",
       "      <td>243</td>\n",
       "    </tr>\n",
       "    <tr>\n",
       "      <th>2</th>\n",
       "      <td>54985</td>\n",
       "      <td>0</td>\n",
       "      <td>16.0</td>\n",
       "      <td>Mobile Phone</td>\n",
       "      <td>1</td>\n",
       "      <td>36.0</td>\n",
       "      <td>Credit Card</td>\n",
       "      <td>Male</td>\n",
       "      <td>3.0</td>\n",
       "      <td>6</td>\n",
       "      <td>Laptop &amp; Accessory</td>\n",
       "      <td>1</td>\n",
       "      <td>Single</td>\n",
       "      <td>6</td>\n",
       "      <td>0</td>\n",
       "      <td>20.0</td>\n",
       "      <td>2.0</td>\n",
       "      <td>2.0</td>\n",
       "      <td>1.0</td>\n",
       "      <td>168</td>\n",
       "    </tr>\n",
       "    <tr>\n",
       "      <th>3</th>\n",
       "      <td>52029</td>\n",
       "      <td>1</td>\n",
       "      <td>0.0</td>\n",
       "      <td>Phone</td>\n",
       "      <td>3</td>\n",
       "      <td>NaN</td>\n",
       "      <td>E wallet</td>\n",
       "      <td>Male</td>\n",
       "      <td>2.0</td>\n",
       "      <td>4</td>\n",
       "      <td>Mobile</td>\n",
       "      <td>4</td>\n",
       "      <td>Married</td>\n",
       "      <td>2</td>\n",
       "      <td>1</td>\n",
       "      <td>18.0</td>\n",
       "      <td>0.0</td>\n",
       "      <td>1.0</td>\n",
       "      <td>0.0</td>\n",
       "      <td>124</td>\n",
       "    </tr>\n",
       "    <tr>\n",
       "      <th>4</th>\n",
       "      <td>50084</td>\n",
       "      <td>0</td>\n",
       "      <td>13.0</td>\n",
       "      <td>Computer</td>\n",
       "      <td>1</td>\n",
       "      <td>15.0</td>\n",
       "      <td>Debit Card</td>\n",
       "      <td>Male</td>\n",
       "      <td>3.0</td>\n",
       "      <td>4</td>\n",
       "      <td>Laptop &amp; Accessory</td>\n",
       "      <td>2</td>\n",
       "      <td>Divorced</td>\n",
       "      <td>10</td>\n",
       "      <td>0</td>\n",
       "      <td>14.0</td>\n",
       "      <td>1.0</td>\n",
       "      <td>1.0</td>\n",
       "      <td>2.0</td>\n",
       "      <td>149</td>\n",
       "    </tr>\n",
       "  </tbody>\n",
       "</table>\n",
       "</div>"
      ],
      "text/plain": [
       "   CustomerID  Churn  Tenure PreferredLoginDevice  CityTier  WarehouseToHome  \\\n",
       "0       54023      1     1.0             Computer         1             31.0   \n",
       "1       50266      0    16.0         Mobile Phone         1             18.0   \n",
       "2       54985      0    16.0         Mobile Phone         1             36.0   \n",
       "3       52029      1     0.0                Phone         3              NaN   \n",
       "4       50084      0    13.0             Computer         1             15.0   \n",
       "\n",
       "  PreferredPaymentMode Gender  HourSpendOnApp  NumberOfDeviceRegistered  \\\n",
       "0           Debit Card   Male             4.0                         5   \n",
       "1           Debit Card   Male             2.0                         4   \n",
       "2          Credit Card   Male             3.0                         6   \n",
       "3             E wallet   Male             2.0                         4   \n",
       "4           Debit Card   Male             3.0                         4   \n",
       "\n",
       "     PreferedOrderCat  SatisfactionScore MaritalStatus  NumberOfAddress  \\\n",
       "0        Mobile Phone                  1        Single                3   \n",
       "1             Grocery                  4       Married                2   \n",
       "2  Laptop & Accessory                  1        Single                6   \n",
       "3              Mobile                  4       Married                2   \n",
       "4  Laptop & Accessory                  2      Divorced               10   \n",
       "\n",
       "   Complain  OrderAmountHikeFromlastYear  CouponUsed  OrderCount  \\\n",
       "0         1                         25.0         2.0         2.0   \n",
       "1         0                         11.0         0.0         NaN   \n",
       "2         0                         20.0         2.0         2.0   \n",
       "3         1                         18.0         0.0         1.0   \n",
       "4         0                         14.0         1.0         1.0   \n",
       "\n",
       "   DaySinceLastOrder  CashbackAmount  \n",
       "0                1.0             149  \n",
       "1                9.0             243  \n",
       "2                1.0             168  \n",
       "3                0.0             124  \n",
       "4                2.0             149  "
      ]
     },
     "execution_count": 21,
     "metadata": {},
     "output_type": "execute_result"
    }
   ],
   "source": [
    "data_cus.head()"
   ]
  },
  {
   "cell_type": "code",
   "execution_count": 22,
   "id": "24b6322f",
   "metadata": {},
   "outputs": [],
   "source": [
    "# 2-4\n",
    "data_cus = data_cus.fillna(data_cus.mean(numeric_only=True)) #用平均值填補空值"
   ]
  },
  {
   "cell_type": "code",
   "execution_count": 23,
   "id": "1433f1f7",
   "metadata": {},
   "outputs": [
    {
     "data": {
      "text/html": [
       "<div>\n",
       "<style scoped>\n",
       "    .dataframe tbody tr th:only-of-type {\n",
       "        vertical-align: middle;\n",
       "    }\n",
       "\n",
       "    .dataframe tbody tr th {\n",
       "        vertical-align: top;\n",
       "    }\n",
       "\n",
       "    .dataframe thead th {\n",
       "        text-align: right;\n",
       "    }\n",
       "</style>\n",
       "<table border=\"1\" class=\"dataframe\">\n",
       "  <thead>\n",
       "    <tr style=\"text-align: right;\">\n",
       "      <th></th>\n",
       "      <th>CustomerID</th>\n",
       "      <th>Churn</th>\n",
       "      <th>Tenure</th>\n",
       "      <th>PreferredLoginDevice</th>\n",
       "      <th>CityTier</th>\n",
       "      <th>WarehouseToHome</th>\n",
       "      <th>PreferredPaymentMode</th>\n",
       "      <th>Gender</th>\n",
       "      <th>HourSpendOnApp</th>\n",
       "      <th>NumberOfDeviceRegistered</th>\n",
       "      <th>PreferedOrderCat</th>\n",
       "      <th>SatisfactionScore</th>\n",
       "      <th>MaritalStatus</th>\n",
       "      <th>NumberOfAddress</th>\n",
       "      <th>Complain</th>\n",
       "      <th>OrderAmountHikeFromlastYear</th>\n",
       "      <th>CouponUsed</th>\n",
       "      <th>OrderCount</th>\n",
       "      <th>DaySinceLastOrder</th>\n",
       "      <th>CashbackAmount</th>\n",
       "    </tr>\n",
       "  </thead>\n",
       "  <tbody>\n",
       "    <tr>\n",
       "      <th>0</th>\n",
       "      <td>54023</td>\n",
       "      <td>1</td>\n",
       "      <td>1.0</td>\n",
       "      <td>Computer</td>\n",
       "      <td>1</td>\n",
       "      <td>31.000000</td>\n",
       "      <td>Debit Card</td>\n",
       "      <td>Male</td>\n",
       "      <td>4.0</td>\n",
       "      <td>5</td>\n",
       "      <td>Mobile Phone</td>\n",
       "      <td>1</td>\n",
       "      <td>Single</td>\n",
       "      <td>3</td>\n",
       "      <td>1</td>\n",
       "      <td>25.0</td>\n",
       "      <td>2.0</td>\n",
       "      <td>2.000000</td>\n",
       "      <td>1.0</td>\n",
       "      <td>149</td>\n",
       "    </tr>\n",
       "    <tr>\n",
       "      <th>1</th>\n",
       "      <td>50266</td>\n",
       "      <td>0</td>\n",
       "      <td>16.0</td>\n",
       "      <td>Mobile Phone</td>\n",
       "      <td>1</td>\n",
       "      <td>18.000000</td>\n",
       "      <td>Debit Card</td>\n",
       "      <td>Male</td>\n",
       "      <td>2.0</td>\n",
       "      <td>4</td>\n",
       "      <td>Grocery</td>\n",
       "      <td>4</td>\n",
       "      <td>Married</td>\n",
       "      <td>2</td>\n",
       "      <td>0</td>\n",
       "      <td>11.0</td>\n",
       "      <td>0.0</td>\n",
       "      <td>2.995593</td>\n",
       "      <td>9.0</td>\n",
       "      <td>243</td>\n",
       "    </tr>\n",
       "    <tr>\n",
       "      <th>2</th>\n",
       "      <td>54985</td>\n",
       "      <td>0</td>\n",
       "      <td>16.0</td>\n",
       "      <td>Mobile Phone</td>\n",
       "      <td>1</td>\n",
       "      <td>36.000000</td>\n",
       "      <td>Credit Card</td>\n",
       "      <td>Male</td>\n",
       "      <td>3.0</td>\n",
       "      <td>6</td>\n",
       "      <td>Laptop &amp; Accessory</td>\n",
       "      <td>1</td>\n",
       "      <td>Single</td>\n",
       "      <td>6</td>\n",
       "      <td>0</td>\n",
       "      <td>20.0</td>\n",
       "      <td>2.0</td>\n",
       "      <td>2.000000</td>\n",
       "      <td>1.0</td>\n",
       "      <td>168</td>\n",
       "    </tr>\n",
       "    <tr>\n",
       "      <th>3</th>\n",
       "      <td>52029</td>\n",
       "      <td>1</td>\n",
       "      <td>0.0</td>\n",
       "      <td>Phone</td>\n",
       "      <td>3</td>\n",
       "      <td>15.758208</td>\n",
       "      <td>E wallet</td>\n",
       "      <td>Male</td>\n",
       "      <td>2.0</td>\n",
       "      <td>4</td>\n",
       "      <td>Mobile</td>\n",
       "      <td>4</td>\n",
       "      <td>Married</td>\n",
       "      <td>2</td>\n",
       "      <td>1</td>\n",
       "      <td>18.0</td>\n",
       "      <td>0.0</td>\n",
       "      <td>1.000000</td>\n",
       "      <td>0.0</td>\n",
       "      <td>124</td>\n",
       "    </tr>\n",
       "    <tr>\n",
       "      <th>4</th>\n",
       "      <td>50084</td>\n",
       "      <td>0</td>\n",
       "      <td>13.0</td>\n",
       "      <td>Computer</td>\n",
       "      <td>1</td>\n",
       "      <td>15.000000</td>\n",
       "      <td>Debit Card</td>\n",
       "      <td>Male</td>\n",
       "      <td>3.0</td>\n",
       "      <td>4</td>\n",
       "      <td>Laptop &amp; Accessory</td>\n",
       "      <td>2</td>\n",
       "      <td>Divorced</td>\n",
       "      <td>10</td>\n",
       "      <td>0</td>\n",
       "      <td>14.0</td>\n",
       "      <td>1.0</td>\n",
       "      <td>1.000000</td>\n",
       "      <td>2.0</td>\n",
       "      <td>149</td>\n",
       "    </tr>\n",
       "  </tbody>\n",
       "</table>\n",
       "</div>"
      ],
      "text/plain": [
       "   CustomerID  Churn  Tenure PreferredLoginDevice  CityTier  WarehouseToHome  \\\n",
       "0       54023      1     1.0             Computer         1        31.000000   \n",
       "1       50266      0    16.0         Mobile Phone         1        18.000000   \n",
       "2       54985      0    16.0         Mobile Phone         1        36.000000   \n",
       "3       52029      1     0.0                Phone         3        15.758208   \n",
       "4       50084      0    13.0             Computer         1        15.000000   \n",
       "\n",
       "  PreferredPaymentMode Gender  HourSpendOnApp  NumberOfDeviceRegistered  \\\n",
       "0           Debit Card   Male             4.0                         5   \n",
       "1           Debit Card   Male             2.0                         4   \n",
       "2          Credit Card   Male             3.0                         6   \n",
       "3             E wallet   Male             2.0                         4   \n",
       "4           Debit Card   Male             3.0                         4   \n",
       "\n",
       "     PreferedOrderCat  SatisfactionScore MaritalStatus  NumberOfAddress  \\\n",
       "0        Mobile Phone                  1        Single                3   \n",
       "1             Grocery                  4       Married                2   \n",
       "2  Laptop & Accessory                  1        Single                6   \n",
       "3              Mobile                  4       Married                2   \n",
       "4  Laptop & Accessory                  2      Divorced               10   \n",
       "\n",
       "   Complain  OrderAmountHikeFromlastYear  CouponUsed  OrderCount  \\\n",
       "0         1                         25.0         2.0    2.000000   \n",
       "1         0                         11.0         0.0    2.995593   \n",
       "2         0                         20.0         2.0    2.000000   \n",
       "3         1                         18.0         0.0    1.000000   \n",
       "4         0                         14.0         1.0    1.000000   \n",
       "\n",
       "   DaySinceLastOrder  CashbackAmount  \n",
       "0                1.0             149  \n",
       "1                9.0             243  \n",
       "2                1.0             168  \n",
       "3                0.0             124  \n",
       "4                2.0             149  "
      ]
     },
     "execution_count": 23,
     "metadata": {},
     "output_type": "execute_result"
    }
   ],
   "source": [
    "data_cus.head()"
   ]
  },
  {
   "cell_type": "code",
   "execution_count": 24,
   "id": "b0724b9b",
   "metadata": {},
   "outputs": [
    {
     "data": {
      "text/html": [
       "<div>\n",
       "<style scoped>\n",
       "    .dataframe tbody tr th:only-of-type {\n",
       "        vertical-align: middle;\n",
       "    }\n",
       "\n",
       "    .dataframe tbody tr th {\n",
       "        vertical-align: top;\n",
       "    }\n",
       "\n",
       "    .dataframe thead th {\n",
       "        text-align: right;\n",
       "    }\n",
       "</style>\n",
       "<table border=\"1\" class=\"dataframe\">\n",
       "  <thead>\n",
       "    <tr style=\"text-align: right;\">\n",
       "      <th></th>\n",
       "      <th>CustomerID</th>\n",
       "      <th>Churn</th>\n",
       "      <th>Tenure</th>\n",
       "      <th>PreferredLoginDevice</th>\n",
       "      <th>CityTier</th>\n",
       "      <th>WarehouseToHome</th>\n",
       "      <th>PreferredPaymentMode</th>\n",
       "      <th>Gender</th>\n",
       "      <th>HourSpendOnApp</th>\n",
       "      <th>NumberOfDeviceRegistered</th>\n",
       "      <th>PreferedOrderCat</th>\n",
       "      <th>SatisfactionScore</th>\n",
       "      <th>MaritalStatus</th>\n",
       "      <th>NumberOfAddress</th>\n",
       "      <th>Complain</th>\n",
       "      <th>OrderAmountHikeFromlastYear</th>\n",
       "      <th>CouponUsed</th>\n",
       "      <th>OrderCount</th>\n",
       "      <th>DaySinceLastOrder</th>\n",
       "      <th>CashbackAmount</th>\n",
       "    </tr>\n",
       "  </thead>\n",
       "  <tbody>\n",
       "    <tr>\n",
       "      <th>0</th>\n",
       "      <td>54023</td>\n",
       "      <td>1</td>\n",
       "      <td>1.0</td>\n",
       "      <td>0</td>\n",
       "      <td>1</td>\n",
       "      <td>31.000000</td>\n",
       "      <td>4</td>\n",
       "      <td>1</td>\n",
       "      <td>4.0</td>\n",
       "      <td>5</td>\n",
       "      <td>4</td>\n",
       "      <td>1</td>\n",
       "      <td>2</td>\n",
       "      <td>3</td>\n",
       "      <td>1</td>\n",
       "      <td>25.0</td>\n",
       "      <td>2.0</td>\n",
       "      <td>2.000000</td>\n",
       "      <td>1.0</td>\n",
       "      <td>149</td>\n",
       "    </tr>\n",
       "    <tr>\n",
       "      <th>1</th>\n",
       "      <td>50266</td>\n",
       "      <td>0</td>\n",
       "      <td>16.0</td>\n",
       "      <td>1</td>\n",
       "      <td>1</td>\n",
       "      <td>18.000000</td>\n",
       "      <td>4</td>\n",
       "      <td>1</td>\n",
       "      <td>2.0</td>\n",
       "      <td>4</td>\n",
       "      <td>1</td>\n",
       "      <td>4</td>\n",
       "      <td>1</td>\n",
       "      <td>2</td>\n",
       "      <td>0</td>\n",
       "      <td>11.0</td>\n",
       "      <td>0.0</td>\n",
       "      <td>2.995593</td>\n",
       "      <td>9.0</td>\n",
       "      <td>243</td>\n",
       "    </tr>\n",
       "    <tr>\n",
       "      <th>2</th>\n",
       "      <td>54985</td>\n",
       "      <td>0</td>\n",
       "      <td>16.0</td>\n",
       "      <td>1</td>\n",
       "      <td>1</td>\n",
       "      <td>36.000000</td>\n",
       "      <td>3</td>\n",
       "      <td>1</td>\n",
       "      <td>3.0</td>\n",
       "      <td>6</td>\n",
       "      <td>2</td>\n",
       "      <td>1</td>\n",
       "      <td>2</td>\n",
       "      <td>6</td>\n",
       "      <td>0</td>\n",
       "      <td>20.0</td>\n",
       "      <td>2.0</td>\n",
       "      <td>2.000000</td>\n",
       "      <td>1.0</td>\n",
       "      <td>168</td>\n",
       "    </tr>\n",
       "    <tr>\n",
       "      <th>3</th>\n",
       "      <td>52029</td>\n",
       "      <td>1</td>\n",
       "      <td>0.0</td>\n",
       "      <td>2</td>\n",
       "      <td>3</td>\n",
       "      <td>15.758208</td>\n",
       "      <td>5</td>\n",
       "      <td>1</td>\n",
       "      <td>2.0</td>\n",
       "      <td>4</td>\n",
       "      <td>3</td>\n",
       "      <td>4</td>\n",
       "      <td>1</td>\n",
       "      <td>2</td>\n",
       "      <td>1</td>\n",
       "      <td>18.0</td>\n",
       "      <td>0.0</td>\n",
       "      <td>1.000000</td>\n",
       "      <td>0.0</td>\n",
       "      <td>124</td>\n",
       "    </tr>\n",
       "    <tr>\n",
       "      <th>4</th>\n",
       "      <td>50084</td>\n",
       "      <td>0</td>\n",
       "      <td>13.0</td>\n",
       "      <td>0</td>\n",
       "      <td>1</td>\n",
       "      <td>15.000000</td>\n",
       "      <td>4</td>\n",
       "      <td>1</td>\n",
       "      <td>3.0</td>\n",
       "      <td>4</td>\n",
       "      <td>2</td>\n",
       "      <td>2</td>\n",
       "      <td>0</td>\n",
       "      <td>10</td>\n",
       "      <td>0</td>\n",
       "      <td>14.0</td>\n",
       "      <td>1.0</td>\n",
       "      <td>1.000000</td>\n",
       "      <td>2.0</td>\n",
       "      <td>149</td>\n",
       "    </tr>\n",
       "  </tbody>\n",
       "</table>\n",
       "</div>"
      ],
      "text/plain": [
       "   CustomerID  Churn  Tenure  PreferredLoginDevice  CityTier  WarehouseToHome  \\\n",
       "0       54023      1     1.0                     0         1        31.000000   \n",
       "1       50266      0    16.0                     1         1        18.000000   \n",
       "2       54985      0    16.0                     1         1        36.000000   \n",
       "3       52029      1     0.0                     2         3        15.758208   \n",
       "4       50084      0    13.0                     0         1        15.000000   \n",
       "\n",
       "   PreferredPaymentMode  Gender  HourSpendOnApp  NumberOfDeviceRegistered  \\\n",
       "0                     4       1             4.0                         5   \n",
       "1                     4       1             2.0                         4   \n",
       "2                     3       1             3.0                         6   \n",
       "3                     5       1             2.0                         4   \n",
       "4                     4       1             3.0                         4   \n",
       "\n",
       "   PreferedOrderCat  SatisfactionScore  MaritalStatus  NumberOfAddress  \\\n",
       "0                 4                  1              2                3   \n",
       "1                 1                  4              1                2   \n",
       "2                 2                  1              2                6   \n",
       "3                 3                  4              1                2   \n",
       "4                 2                  2              0               10   \n",
       "\n",
       "   Complain  OrderAmountHikeFromlastYear  CouponUsed  OrderCount  \\\n",
       "0         1                         25.0         2.0    2.000000   \n",
       "1         0                         11.0         0.0    2.995593   \n",
       "2         0                         20.0         2.0    2.000000   \n",
       "3         1                         18.0         0.0    1.000000   \n",
       "4         0                         14.0         1.0    1.000000   \n",
       "\n",
       "   DaySinceLastOrder  CashbackAmount  \n",
       "0                1.0             149  \n",
       "1                9.0             243  \n",
       "2                1.0             168  \n",
       "3                0.0             124  \n",
       "4                2.0             149  "
      ]
     },
     "execution_count": 24,
     "metadata": {},
     "output_type": "execute_result"
    }
   ],
   "source": [
    "#2-4 label encoding\n",
    "le_cus = LabelEncoder()\n",
    "data_cus['PreferredLoginDevice'] = le_cus.fit_transform(data_cus['PreferredLoginDevice'])\n",
    "data_cus['PreferredPaymentMode'] = le_cus.fit_transform(data_cus['PreferredPaymentMode'])\n",
    "data_cus['Gender'] = le_cus.fit_transform(data_cus['Gender'])\n",
    "data_cus['PreferedOrderCat'] = le_cus.fit_transform(data_cus['PreferedOrderCat'])\n",
    "data_cus['MaritalStatus'] = le_cus.fit_transform(data_cus['MaritalStatus'])\n",
    "data_cus.head()"
   ]
  },
  {
   "cell_type": "code",
   "execution_count": 25,
   "id": "10d8bda1",
   "metadata": {},
   "outputs": [
    {
     "name": "stdout",
     "output_type": "stream",
     "text": [
      "<class 'pandas.core.frame.DataFrame'>\n",
      "Int64Index: 3078 entries, 0 to 3082\n",
      "Data columns (total 18 columns):\n",
      " #   Column                       Non-Null Count  Dtype  \n",
      "---  ------                       --------------  -----  \n",
      " 0   Tenure                       3078 non-null   float64\n",
      " 1   PreferredLoginDevice         3078 non-null   int32  \n",
      " 2   CityTier                     3078 non-null   int64  \n",
      " 3   WarehouseToHome              3078 non-null   float64\n",
      " 4   PreferredPaymentMode         3078 non-null   int32  \n",
      " 5   Gender                       3078 non-null   int32  \n",
      " 6   HourSpendOnApp               3078 non-null   float64\n",
      " 7   NumberOfDeviceRegistered     3078 non-null   int64  \n",
      " 8   PreferedOrderCat             3078 non-null   int32  \n",
      " 9   SatisfactionScore            3078 non-null   int64  \n",
      " 10  MaritalStatus                3078 non-null   int32  \n",
      " 11  NumberOfAddress              3078 non-null   int64  \n",
      " 12  Complain                     3078 non-null   int64  \n",
      " 13  OrderAmountHikeFromlastYear  3078 non-null   float64\n",
      " 14  CouponUsed                   3078 non-null   float64\n",
      " 15  OrderCount                   3078 non-null   float64\n",
      " 16  DaySinceLastOrder            3078 non-null   float64\n",
      " 17  CashbackAmount               3078 non-null   int64  \n",
      "dtypes: float64(7), int32(5), int64(6)\n",
      "memory usage: 396.8 KB\n"
     ]
    }
   ],
   "source": [
    "# 2-5\n",
    "X = data_cus.drop(['CustomerID','Churn'],axis=1)\n",
    "X.info()\n",
    "# X為訓練資料集"
   ]
  },
  {
   "cell_type": "code",
   "execution_count": 26,
   "id": "d9846e34",
   "metadata": {},
   "outputs": [],
   "source": [
    "y = data_cus['Churn']\n",
    "# y為測試資料集"
   ]
  },
  {
   "cell_type": "code",
   "execution_count": 27,
   "id": "320359f5",
   "metadata": {},
   "outputs": [],
   "source": [
    "X_train, X_test, y_train, y_test = train_test_split(X,y,test_size=0.3,random_state=12,stratify=y)"
   ]
  },
  {
   "cell_type": "code",
   "execution_count": 28,
   "id": "654d6700",
   "metadata": {},
   "outputs": [
    {
     "data": {
      "text/plain": [
       "SVC(kernel='linear')"
      ]
     },
     "execution_count": 28,
     "metadata": {},
     "output_type": "execute_result"
    }
   ],
   "source": [
    "# 2-6 # 2-7\n",
    "from sklearn import svm\n",
    "clf = svm.SVC(kernel='linear') # 建立SVM model\n",
    "clf.fit(X_train, y_train) # 訓練 clf"
   ]
  },
  {
   "cell_type": "code",
   "execution_count": 29,
   "id": "d7d8f3ca",
   "metadata": {},
   "outputs": [],
   "source": [
    "from sklearn.metrics import accuracy_score\n",
    "y_predict_svm = clf.predict(X_test) #用X_test做預測\n",
    "accuracy = accuracy_score(y_test,y_predict_svm) #評估準確值"
   ]
  },
  {
   "cell_type": "code",
   "execution_count": 30,
   "id": "969bd231",
   "metadata": {},
   "outputs": [
    {
     "name": "stdout",
     "output_type": "stream",
     "text": [
      "0.8203463203463204\n"
     ]
    }
   ],
   "source": [
    "print(accuracy) # kernel='linear'"
   ]
  },
  {
   "cell_type": "code",
   "execution_count": 31,
   "id": "eec13953",
   "metadata": {},
   "outputs": [
    {
     "data": {
      "text/plain": [
       "SVC(kernel='sigmoid')"
      ]
     },
     "execution_count": 31,
     "metadata": {},
     "output_type": "execute_result"
    }
   ],
   "source": [
    "clf = svm.SVC(kernel='sigmoid') # 將kernel改為sigmoid\n",
    "clf.fit(X_train, y_train)# 訓練clf"
   ]
  },
  {
   "cell_type": "code",
   "execution_count": 32,
   "id": "2ee0c8ef",
   "metadata": {},
   "outputs": [
    {
     "name": "stdout",
     "output_type": "stream",
     "text": [
      "0.7164502164502164\n"
     ]
    }
   ],
   "source": [
    "y_predict_svm2 = clf.predict(X_test)#用X_test做預測\n",
    "accuracy = accuracy_score(y_test,y_predict_svm2)#評估準確值\n",
    "print(accuracy) # kernel='sigmoid'"
   ]
  },
  {
   "cell_type": "code",
   "execution_count": 33,
   "id": "cbfaa744",
   "metadata": {},
   "outputs": [
    {
     "data": {
      "text/plain": [
       "LogisticRegression(solver='liblinear')"
      ]
     },
     "execution_count": 33,
     "metadata": {},
     "output_type": "execute_result"
    }
   ],
   "source": [
    "from sklearn.linear_model import LogisticRegression\n",
    "lor = LogisticRegression(solver='liblinear') # 建立Logistic Regression model\n",
    "lor.fit(X_train,y_train) # 訓練lor"
   ]
  },
  {
   "cell_type": "code",
   "execution_count": 34,
   "id": "0cfb180b",
   "metadata": {},
   "outputs": [
    {
     "name": "stdout",
     "output_type": "stream",
     "text": [
      "0.8225108225108225\n"
     ]
    }
   ],
   "source": [
    "y_predict_lor = lor.predict(X_test)#用X_test做預測\n",
    "accuracy = accuracy_score(y_test,y_predict_lor)#評估準確值\n",
    "print(accuracy) # solver = 'liblinear'"
   ]
  },
  {
   "cell_type": "code",
   "execution_count": 35,
   "id": "4b2a397a",
   "metadata": {
    "scrolled": true
   },
   "outputs": [
    {
     "name": "stderr",
     "output_type": "stream",
     "text": [
      "C:\\Users\\Admin\\anaconda3\\envs\\hw3_env\\lib\\site-packages\\sklearn\\linear_model\\_logistic.py:818: ConvergenceWarning: lbfgs failed to converge (status=1):\n",
      "STOP: TOTAL NO. of ITERATIONS REACHED LIMIT.\n",
      "\n",
      "Increase the number of iterations (max_iter) or scale the data as shown in:\n",
      "    https://scikit-learn.org/stable/modules/preprocessing.html\n",
      "Please also refer to the documentation for alternative solver options:\n",
      "    https://scikit-learn.org/stable/modules/linear_model.html#logistic-regression\n",
      "  extra_warning_msg=_LOGISTIC_SOLVER_CONVERGENCE_MSG,\n"
     ]
    },
    {
     "data": {
      "text/plain": [
       "LogisticRegression()"
      ]
     },
     "execution_count": 35,
     "metadata": {},
     "output_type": "execute_result"
    }
   ],
   "source": [
    "lor = LogisticRegression()# 建立Logistic Regression model\n",
    "lor.fit(X_train,y_train)"
   ]
  },
  {
   "cell_type": "code",
   "execution_count": 36,
   "id": "aa5e0b51",
   "metadata": {},
   "outputs": [
    {
     "name": "stdout",
     "output_type": "stream",
     "text": [
      "0.8095238095238095\n"
     ]
    }
   ],
   "source": [
    "y_predict_lor2 = lor.predict(X_test)\n",
    "accuracy = accuracy_score(y_test,y_predict_lor2)\n",
    "print(accuracy) # solver = 'lbfgs'"
   ]
  },
  {
   "cell_type": "code",
   "execution_count": 37,
   "id": "6fb04475",
   "metadata": {},
   "outputs": [
    {
     "data": {
      "text/plain": [
       "DecisionTreeClassifier()"
      ]
     },
     "execution_count": 37,
     "metadata": {},
     "output_type": "execute_result"
    }
   ],
   "source": [
    "from sklearn.tree import DecisionTreeClassifier\n",
    "dt = DecisionTreeClassifier(criterion = 'gini')# 建立Decision tree\n",
    "dt.fit(X_train,y_train)# 訓練 dt"
   ]
  },
  {
   "cell_type": "code",
   "execution_count": 38,
   "id": "2fee6c19",
   "metadata": {},
   "outputs": [
    {
     "name": "stdout",
     "output_type": "stream",
     "text": [
      "0.9112554112554112\n"
     ]
    }
   ],
   "source": [
    "y_predict_dt = dt.predict(X_test)\n",
    "accuracy = accuracy_score(y_test,y_predict_dt)\n",
    "print(accuracy)# criterion = gini"
   ]
  },
  {
   "cell_type": "code",
   "execution_count": 39,
   "id": "a5ac61d8",
   "metadata": {},
   "outputs": [
    {
     "data": {
      "text/plain": [
       "DecisionTreeClassifier(criterion='entropy')"
      ]
     },
     "execution_count": 39,
     "metadata": {},
     "output_type": "execute_result"
    }
   ],
   "source": [
    "dt = DecisionTreeClassifier(criterion = 'entropy')\n",
    "dt.fit(X_train,y_train)"
   ]
  },
  {
   "cell_type": "code",
   "execution_count": 40,
   "id": "eb07a2eb",
   "metadata": {},
   "outputs": [
    {
     "name": "stdout",
     "output_type": "stream",
     "text": [
      "0.9090909090909091\n"
     ]
    }
   ],
   "source": [
    "y_predict_dt = dt.predict(X_test)\n",
    "accuracy = accuracy_score(y_test,y_predict_dt)\n",
    "print(accuracy) # criterion = entropy"
   ]
  },
  {
   "cell_type": "code",
   "execution_count": null,
   "id": "d6d9d986",
   "metadata": {},
   "outputs": [],
   "source": [
    "# 2-8"
   ]
  },
  {
   "cell_type": "code",
   "execution_count": 41,
   "id": "662c63c9",
   "metadata": {},
   "outputs": [
    {
     "name": "stdout",
     "output_type": "stream",
     "text": [
      "[[570  69]\n",
      " [ 97 188]]\n"
     ]
    }
   ],
   "source": [
    "# 2-9\n",
    "confusion_matrix_svm = metrics.confusion_matrix(y_test, y_predict_svm)\n",
    "print(confusion_matrix_svm)\n",
    "# 實際True 預測為 Positive 有 570 筆\n",
    "# 實際False 預測為 Positive 有 69 筆\n",
    "# 實際True 預測為 Negative 有 97 筆\n",
    "# 實際False 預測為Negative 有 188筆\n",
    "# 總共預測正確的有 (570+188) = 758 筆 錯誤的有 (69+97) = 166筆"
   ]
  },
  {
   "cell_type": "code",
   "execution_count": 42,
   "id": "527c906d",
   "metadata": {},
   "outputs": [
    {
     "name": "stdout",
     "output_type": "stream",
     "text": [
      "[[569  70]\n",
      " [ 94 191]]\n"
     ]
    }
   ],
   "source": [
    "confusion_matrix_lor = metrics.confusion_matrix(y_test,y_predict_lor)\n",
    "print(confusion_matrix_lor)\n",
    "# 實際True 預測為 Positive 有 569 筆\n",
    "# 實際False 預測為 Positive 有 70 筆\n",
    "# 實際True 預測為 Negative 有 94 筆\n",
    "# 實際False 預測為Negative 有 191筆\n",
    "# 總共預測正確的有 (569+191) = 760 筆 錯誤的有 (70+94) = 164筆"
   ]
  },
  {
   "cell_type": "code",
   "execution_count": 43,
   "id": "bebede55",
   "metadata": {},
   "outputs": [
    {
     "name": "stdout",
     "output_type": "stream",
     "text": [
      "[[584  55]\n",
      " [ 29 256]]\n"
     ]
    }
   ],
   "source": [
    "confusion_matrix_dt = metrics.confusion_matrix(y_test,y_predict_dt)\n",
    "print(confusion_matrix_dt)\n",
    "# 實際True 預測為 Positive 有 584 筆\n",
    "# 實際False 預測為 Positive 有 55 筆\n",
    "# 實際True 預測為 Negative 有 29 筆\n",
    "# 實際False 預測為Negative 有 256筆\n",
    "# 總共預測正確的有 (584+256) = 840 筆 錯誤的有 (55+29) = 84筆"
   ]
  },
  {
   "cell_type": "code",
   "execution_count": null,
   "id": "dd7f136a",
   "metadata": {},
   "outputs": [],
   "source": []
  }
 ],
 "metadata": {
  "kernelspec": {
   "display_name": "hw3_env",
   "language": "python",
   "name": "hw3_env"
  },
  "language_info": {
   "codemirror_mode": {
    "name": "ipython",
    "version": 3
   },
   "file_extension": ".py",
   "mimetype": "text/x-python",
   "name": "python",
   "nbconvert_exporter": "python",
   "pygments_lexer": "ipython3",
   "version": "3.7.16"
  }
 },
 "nbformat": 4,
 "nbformat_minor": 5
}
